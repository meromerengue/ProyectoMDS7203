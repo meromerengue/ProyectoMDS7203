{
  "cells": [
    {
      "cell_type": "markdown",
      "metadata": {
        "cell_id": "00000-46c25add-fb50-4763-adbe-31de1f025cd7",
        "deepnote_cell_type": "markdown",
        "id": "Um1J0VRVN5b7"
      },
      "source": [
        "<h1><center> MDS7203 - Proyecto Final <br /> Generative Models: Wassesrtein Generative Adversarial Networks <br/> </center></h1>\n",
        "<h3><center>Profesor: Felipe Tobar <br />\n",
        "Profesor Auxiliar: Camilo Carvajal y Cristobal Alcazar <br />\n",
        "<h3><center>Semestre: Primavera 2023 </center></h3>"
      ]
    },
    {
      "cell_type": "markdown",
      "metadata": {
        "cell_id": "00004-f877d5be-dc50-42a5-bbbe-9b80f5ebcd76",
        "deepnote_cell_type": "markdown",
        "id": "40zVD5IUKYy3"
      },
      "source": [
        "<h2> Conditional Convolutional GAN (CCGAN) </h2>"
      ]
    },
    {
      "cell_type": "code",
      "execution_count": 1,
      "metadata": {
        "cell_id": "00006-b632b05a-0392-4581-aa21-59796e9f9745",
        "deepnote_cell_type": "code",
        "id": "q7yBAR57KYy5"
      },
      "outputs": [],
      "source": [
        "from tqdm import tqdm\n",
        "from IPython import display\n",
        "import torch\n",
        "from torch import nn\n",
        "from tqdm.auto import tqdm\n",
        "from torchvision import transforms\n",
        "from torchvision.datasets import MNIST\n",
        "from torchvision.utils import make_grid\n",
        "from torch.utils.data import DataLoader\n",
        "import matplotlib.pyplot as plt\n",
        "import torch.nn.functional as F\n",
        "import numpy as np\n",
        "torch.manual_seed(0); # Set for testing purposes, please do not change!"
      ]
    },
    {
      "cell_type": "code",
      "execution_count": 2,
      "metadata": {
        "cell_id": "00007-ab65b067-bc54-42f4-85e4-b09006d7346b",
        "deepnote_cell_type": "code",
        "id": "hC7vqAamKYy6"
      },
      "outputs": [],
      "source": [
        "device = \"cuda\" if torch.cuda.is_available() else \"cpu\"\n",
        "is_train = False#Variable booleana que indica si es entrenamiento o no"
      ]
    },
    {
      "cell_type": "code",
      "execution_count": 3,
      "metadata": {
        "cell_id": "00008-07fafc51-66e5-46fb-9223-caac5168ee2b",
        "deepnote_cell_type": "code",
        "id": "VhLSfd6zKYy7"
      },
      "outputs": [],
      "source": [
        "def show_tensor_images(image_tensor, num_images=25, size=(1, 28, 28), save=False, name=None, epoch=None):\n",
        "    image_tensor = (image_tensor + 1) / 2\n",
        "    image_unflat = image_tensor.detach().cpu()\n",
        "    image_grid = make_grid(image_unflat[:num_images], nrow=5)\n",
        "\n",
        "    plt.imshow(image_grid.permute(1, 2, 0).squeeze())\n",
        "    plt.axis('off')\n",
        "    if save:\n",
        "        plt.savefig('{}_epoch_{}.png'.format(name, epoch))\n",
        "    plt.show()"
      ]
    },
    {
      "cell_type": "markdown",
      "metadata": {
        "id": "RvrSSIIULZBC"
      },
      "source": [
        "<h3> Bloque del Generador </h3>\n",
        "\n",
        "La estructura de cada bloque es la siguiente:\n",
        "*   Una capa deconvolucional\n",
        "*   Una capa de batchnorm, salvo en la última capa\n",
        "*   Una activación ReLU después de cada batchnorm\n",
        "*   Una activacion Tanh, sólo para la última capa"
      ]
    },
    {
      "cell_type": "code",
      "execution_count": 4,
      "metadata": {
        "cell_id": "00010-4287230c-82d7-493a-8ff0-c21779f6c3c7",
        "deepnote_cell_type": "code",
        "id": "q24oaA8wKYy8"
      },
      "outputs": [],
      "source": [
        "def make_gen_block(input_channels, output_channels, kernel_size=3, stride=2, final_layer=False):\n",
        "    if not final_layer:\n",
        "        return nn.Sequential(\n",
        "            nn.ConvTranspose2d(input_channels, output_channels, kernel_size, stride),\n",
        "            nn.BatchNorm2d(output_channels),\n",
        "            nn.ReLU(inplace=True)\n",
        "        )\n",
        "    else:\n",
        "        return nn.Sequential(\n",
        "            nn.ConvTranspose2d(input_channels, output_channels, kernel_size, stride),\n",
        "            nn.Tanh()\n",
        "        )"
      ]
    },
    {
      "cell_type": "code",
      "execution_count": 5,
      "metadata": {
        "cell_id": "00011-12691c75-9ff9-4110-98fe-3cdd304e4d81",
        "deepnote_cell_type": "code",
        "id": "3u9zR8_WKYy8"
      },
      "outputs": [],
      "source": [
        "def get_noise(n_samples, z_dim, device='cpu'):\n",
        "    return torch.randn(n_samples, z_dim, device=device)"
      ]
    },
    {
      "cell_type": "markdown",
      "metadata": {
        "cell_id": "00012-f0244221-1681-485a-a19c-70ddd9661187",
        "deepnote_cell_type": "markdown",
        "id": "uoXOa-pmKYy9"
      },
      "source": [
        "<h2> Generador</h2>\n",
        "\n"
      ]
    },
    {
      "cell_type": "code",
      "execution_count": 6,
      "metadata": {
        "cell_id": "00013-18903651-ad1f-4ca4-9254-e370f5c9b261",
        "deepnote_cell_type": "code",
        "id": "9jsHgky_KYy9"
      },
      "outputs": [],
      "source": [
        "class Generator(nn.Module):\n",
        "    def __init__(self, z_dim=10, im_chan=1, hidden_dim=64):\n",
        "        super(Generator, self).__init__()\n",
        "        self.z_dim = z_dim\n",
        "        self.embed = nn.Embedding(10, z_dim)\n",
        "        self.gen = nn.Sequential(\n",
        "            make_gen_block(z_dim, hidden_dim * 4, kernel_size=3, stride=2),\n",
        "            make_gen_block(hidden_dim * 4, hidden_dim * 2, kernel_size=4, stride=1),\n",
        "            make_gen_block(hidden_dim * 2, hidden_dim, kernel_size=3, stride=2),\n",
        "            make_gen_block(hidden_dim, im_chan, kernel_size=4, stride=2, final_layer=True),\n",
        "        )\n",
        "\n",
        "    def vec_reshape(self, noise):\n",
        "        return noise.view(len(noise), self.z_dim, 1, 1)\n",
        "\n",
        "    def get_emb(self, labels):\n",
        "        return self.vec_reshape(self.embed(labels))\n",
        "\n",
        "    def forward(self, noise, labels=None):\n",
        "        x = self.vec_reshape(noise)\n",
        "        if labels is not None: x = x * self.get_emb(labels)\n",
        "        return self.gen(x)\n",
        "\n",
        "    def intepolation(self, label1, label2, n_samples=10, device='cpu'):\n",
        "        if not isinstance(label1, torch.Tensor): label1 = torch.tensor(label1, device=device).view(1, 1)\n",
        "        if not isinstance(label2, torch.Tensor): label2 = torch.tensor(label2, device=device).view(1, 1)\n",
        "        noise = get_noise(n_samples, self.z_dim, device=device)\n",
        "        label1 = self.get_emb(label1).squeeze()\n",
        "        label2 = self.get_emb(label2).squeeze()\n",
        "        inter_vecs = torch.zeros(n_samples, self.z_dim, device=device)\n",
        "        for i in range(n_samples):\n",
        "            inter_vecs[i] = label1 + (label2 - label1) * i / (n_samples - 1)\n",
        "        return self.forward(inter_vecs * noise)"
      ]
    },
    {
      "cell_type": "markdown",
      "metadata": {
        "cell_id": "00014-5103b4b6-953d-4f2f-af1c-c972e6201824",
        "deepnote_cell_type": "markdown",
        "id": "2A8qo7lyKYy9"
      },
      "source": [
        "<h2> Tests Generador </h2>"
      ]
    },
    {
      "cell_type": "code",
      "execution_count": 7,
      "metadata": {
        "cell_id": "00015-45eea0f5-aa63-4300-8586-f0f48934a7f8",
        "deepnote_cell_type": "code",
        "id": "AJzjvV7MKYy-"
      },
      "outputs": [],
      "source": [
        "gen = Generator()\n",
        "num_test = 100\n",
        "\n",
        "# Test the hidden block\n",
        "test_hidden_noise = get_noise(num_test, gen.z_dim)\n",
        "test_hidden_block = make_gen_block(10, 20, kernel_size=4, stride=1)\n",
        "test_uns_noise = gen.vec_reshape(test_hidden_noise)\n",
        "hidden_output = test_hidden_block(test_uns_noise)\n",
        "\n",
        "# Check that it works with other strides\n",
        "test_hidden_block_stride = make_gen_block(20, 20, kernel_size=4, stride=2)\n",
        "\n",
        "test_final_noise = get_noise(num_test, gen.z_dim) * 20\n",
        "test_final_block = make_gen_block(10, 20, final_layer=True)\n",
        "test_final_uns_noise = gen.vec_reshape(test_final_noise)\n",
        "final_output = test_final_block(test_final_uns_noise)\n",
        "\n",
        "# Test the whole thing\n",
        "test_gen_noise = get_noise(num_test, gen.z_dim)\n",
        "test_uns_gen_noise = gen.vec_reshape(test_gen_noise)\n",
        "gen_output = gen(test_uns_gen_noise)"
      ]
    },
    {
      "cell_type": "code",
      "execution_count": 8,
      "metadata": {
        "cell_id": "00016-1c9e7494-22c9-46fb-bbf5-eb43a9205fe1",
        "colab": {
          "base_uri": "https://localhost:8080/"
        },
        "deepnote_cell_type": "code",
        "id": "VO4sZ30qKYy-",
        "outputId": "a846bfe5-b675-47a7-ba95-89c1c754b5c1"
      },
      "outputs": [
        {
          "output_type": "stream",
          "name": "stdout",
          "text": [
            "Well done !\n"
          ]
        }
      ],
      "source": [
        "# UNIT TESTS\n",
        "assert tuple(hidden_output.shape) == (num_test, 20, 4, 4)\n",
        "assert hidden_output.max() > 1\n",
        "assert hidden_output.min() == 0\n",
        "assert hidden_output.std() < 1\n",
        "assert hidden_output.std() > 0.5\n",
        "\n",
        "assert tuple(test_hidden_block_stride(hidden_output).shape) == (num_test, 20, 10, 10)\n",
        "\n",
        "assert final_output.max().item() == 1\n",
        "assert final_output.min().item() == -1\n",
        "\n",
        "assert tuple(gen_output.shape) == (num_test, 1, 28, 28)\n",
        "assert gen_output.std() > 0.5\n",
        "assert gen_output.std() < 0.8\n",
        "print(\"Well done !\")"
      ]
    },
    {
      "cell_type": "markdown",
      "metadata": {
        "cell_id": "00017-b107b70f-e73d-481a-906e-cf82adb3da2c",
        "deepnote_cell_type": "markdown",
        "id": "Eer8QCNKKYy-"
      },
      "source": [
        "<h3> Bloque del discriminador</h3>\n",
        "\n",
        "Procederemos a implementar un bloque para el discriminador.\n",
        "La estructura de cada bloque es la siguiente:\n",
        "\n",
        "*    Una capa convolucional\n",
        "*    Una capa de batchnorm, excepto por la última capa\n",
        "*    Una activacion LeakyReLU de pendiente 0.2, sólo después de las capas de batchnorm"
      ]
    },
    {
      "cell_type": "code",
      "execution_count": 9,
      "metadata": {
        "cell_id": "00018-54d4372d-453b-449c-8983-78d43b0c8cb4",
        "deepnote_cell_type": "code",
        "id": "PozYCJpCKYy_"
      },
      "outputs": [],
      "source": [
        "def make_disc_block(input_channels, output_channels, kernel_size=4, stride=2, final_layer=False):\n",
        "        if not final_layer:\n",
        "            return nn.Sequential(\n",
        "                nn.Conv2d(input_channels, output_channels, kernel_size, stride),\n",
        "                nn.BatchNorm2d(output_channels),\n",
        "                nn.LeakyReLU(0.2, inplace=True)\n",
        "            )\n",
        "        else:\n",
        "            return nn.Sequential(\n",
        "                nn.Conv2d(input_channels, output_channels, kernel_size, stride)\n",
        "            )"
      ]
    },
    {
      "cell_type": "markdown",
      "metadata": {
        "cell_id": "00019-0123fa45-c696-4c16-9d78-5653f8d786b3",
        "deepnote_cell_type": "markdown",
        "id": "tzFeOqbwKYy_"
      },
      "source": [
        "<h2> Discriminador </h2>\n",
        "\n"
      ]
    },
    {
      "cell_type": "code",
      "execution_count": 10,
      "metadata": {
        "id": "CGzncONPyatt"
      },
      "outputs": [],
      "source": [
        "class Discriminator(nn.Module):\n",
        "    def __init__(self, im_chan=1, hidden_dim=16):\n",
        "        super(Discriminator, self).__init__()\n",
        "\n",
        "        self.im_size = 28*28\n",
        "        self.embed = nn.Embedding(10, self.im_size)\n",
        "\n",
        "        self.disc = nn.Sequential(\n",
        "            make_disc_block(im_chan, hidden_dim, kernel_size=4, stride=2),\n",
        "            make_disc_block(hidden_dim, hidden_dim * 2, kernel_size=4, stride=2),\n",
        "            make_disc_block(hidden_dim * 2, 1, kernel_size=4, stride=2, final_layer=True),\n",
        "        )\n",
        "\n",
        "    def vec_reshape(self, vec):\n",
        "        return vec.view(len(vec), 1, 28, 28)\n",
        "\n",
        "    def get_emb(self, labels):\n",
        "        return self.vec_reshape(self.embed(labels))\n",
        "\n",
        "    def forward(self, image, labels = None):\n",
        "        if labels is not None: image = image * self.get_emb(labels)\n",
        "        disc_pred = self.disc(image)\n",
        "        return disc_pred.view(len(disc_pred), -1)"
      ]
    },
    {
      "cell_type": "markdown",
      "metadata": {
        "cell_id": "00021-cb9f499e-2afa-4120-b9d1-a9c61e1e6732",
        "deepnote_cell_type": "markdown",
        "id": "gfuMR-RoKYy_"
      },
      "source": [
        "<h2> Test Discriminador </h2>"
      ]
    },
    {
      "cell_type": "code",
      "execution_count": 11,
      "metadata": {
        "cell_id": "00022-cf15af09-99a5-44dc-9a60-c8fa5f1d3730",
        "deepnote_cell_type": "code",
        "id": "8bFYKiKbKYzA",
        "colab": {
          "base_uri": "https://localhost:8080/"
        },
        "outputId": "8b8e9c23-a313-4bd4-d962-5e92c06be81e"
      },
      "outputs": [
        {
          "output_type": "stream",
          "name": "stdout",
          "text": [
            "torch.Size([100, 10])\n",
            "torch.Size([100])\n"
          ]
        }
      ],
      "source": [
        "num_test = 100\n",
        "\n",
        "gen = Generator().to(device)\n",
        "disc = Discriminator().to(device)\n",
        "noise = get_noise(num_test, gen.z_dim, device=device)\n",
        "labels = torch.randint(0, 10, (num_test,), device=device)\n",
        "print(noise.shape)\n",
        "print(labels.shape)\n",
        "test_images = gen(noise, labels).to(device)\n",
        "\n",
        "# Test the hidden block\n",
        "test_hidden_block = make_disc_block(1, 5, kernel_size=6, stride=3).to(device)\n",
        "hidden_output = test_hidden_block(test_images)\n",
        "\n",
        "# Test the final block\n",
        "test_final_block = make_disc_block(1, 10, kernel_size=2, stride=5, final_layer=True).to(device)\n",
        "final_output = test_final_block(test_images)\n",
        "\n",
        "# Test the whole thing:\n",
        "disc_output = disc(test_images)"
      ]
    },
    {
      "cell_type": "code",
      "execution_count": 12,
      "metadata": {
        "cell_id": "00023-182e1c62-497c-4f28-b0f1-b9ec33185203",
        "colab": {
          "base_uri": "https://localhost:8080/"
        },
        "deepnote_cell_type": "code",
        "id": "Rx3d0Z7fKYzA",
        "outputId": "5ff3a605-b59b-4a71-a11e-b2119757c953"
      },
      "outputs": [
        {
          "output_type": "stream",
          "name": "stdout",
          "text": [
            "Well done !\n"
          ]
        }
      ],
      "source": [
        "# UNIT TESTS\n",
        "# Test the hidden block\n",
        "assert tuple(hidden_output.shape) == (num_test, 5, 8, 8)\n",
        "assert -hidden_output.min() / hidden_output.max() > 0.15\n",
        "assert -hidden_output.min() / hidden_output.max() < 0.25\n",
        "assert hidden_output.std() > 0.5\n",
        "assert hidden_output.std() < 1\n",
        "\n",
        "# Test the final block\n",
        "assert tuple(final_output.shape) == (num_test, 10, 6, 6)\n",
        "assert final_output.max() > 1.0\n",
        "assert final_output.min() < -1.0\n",
        "assert final_output.std() > 0.3\n",
        "assert final_output.std() < 0.6\n",
        "\n",
        "# Test the whole thing:\n",
        "\n",
        "assert tuple(disc_output.shape) == (num_test, 1)\n",
        "assert disc_output.std() > 0.25\n",
        "assert disc_output.std() < 0.5\n",
        "print(\"Well done !\")"
      ]
    },
    {
      "cell_type": "markdown",
      "metadata": {
        "cell_id": "00024-d0da12b6-7d26-4c06-a268-9a180b760e25",
        "deepnote_cell_type": "markdown",
        "id": "BtTwr8nKKYzA"
      },
      "source": [
        "A continuación se definen los parámetros de entrenamiento a utlizar, y una funcion de utilidad para la inicialización de los pesos."
      ]
    },
    {
      "cell_type": "code",
      "execution_count": 13,
      "metadata": {
        "cell_id": "00025-79f29fd7-f3b6-471a-aa75-f86437ad8a3b",
        "deepnote_cell_type": "code",
        "id": "WbfuRhGUKYzA",
        "colab": {
          "base_uri": "https://localhost:8080/"
        },
        "outputId": "622af2db-3285-4ada-d3b1-345b564b8494"
      },
      "outputs": [
        {
          "output_type": "stream",
          "name": "stdout",
          "text": [
            "Downloading http://yann.lecun.com/exdb/mnist/train-images-idx3-ubyte.gz\n",
            "Downloading http://yann.lecun.com/exdb/mnist/train-images-idx3-ubyte.gz to ./MNIST/raw/train-images-idx3-ubyte.gz\n"
          ]
        },
        {
          "output_type": "stream",
          "name": "stderr",
          "text": [
            "100%|██████████| 9912422/9912422 [00:00<00:00, 177375322.08it/s]"
          ]
        },
        {
          "output_type": "stream",
          "name": "stdout",
          "text": [
            "Extracting ./MNIST/raw/train-images-idx3-ubyte.gz to ./MNIST/raw\n"
          ]
        },
        {
          "output_type": "stream",
          "name": "stderr",
          "text": [
            "\n"
          ]
        },
        {
          "output_type": "stream",
          "name": "stdout",
          "text": [
            "\n",
            "Downloading http://yann.lecun.com/exdb/mnist/train-labels-idx1-ubyte.gz\n",
            "Downloading http://yann.lecun.com/exdb/mnist/train-labels-idx1-ubyte.gz to ./MNIST/raw/train-labels-idx1-ubyte.gz\n"
          ]
        },
        {
          "output_type": "stream",
          "name": "stderr",
          "text": [
            "100%|██████████| 28881/28881 [00:00<00:00, 18789467.01it/s]"
          ]
        },
        {
          "output_type": "stream",
          "name": "stdout",
          "text": [
            "Extracting ./MNIST/raw/train-labels-idx1-ubyte.gz to ./MNIST/raw\n",
            "\n",
            "Downloading http://yann.lecun.com/exdb/mnist/t10k-images-idx3-ubyte.gz\n",
            "Downloading http://yann.lecun.com/exdb/mnist/t10k-images-idx3-ubyte.gz to ./MNIST/raw/t10k-images-idx3-ubyte.gz\n"
          ]
        },
        {
          "output_type": "stream",
          "name": "stderr",
          "text": [
            "\n",
            "100%|██████████| 1648877/1648877 [00:00<00:00, 66502152.96it/s]\n"
          ]
        },
        {
          "output_type": "stream",
          "name": "stdout",
          "text": [
            "Extracting ./MNIST/raw/t10k-images-idx3-ubyte.gz to ./MNIST/raw\n",
            "\n",
            "Downloading http://yann.lecun.com/exdb/mnist/t10k-labels-idx1-ubyte.gz\n",
            "Downloading http://yann.lecun.com/exdb/mnist/t10k-labels-idx1-ubyte.gz to ./MNIST/raw/t10k-labels-idx1-ubyte.gz\n"
          ]
        },
        {
          "output_type": "stream",
          "name": "stderr",
          "text": [
            "100%|██████████| 4542/4542 [00:00<00:00, 9870740.29it/s]"
          ]
        },
        {
          "output_type": "stream",
          "name": "stdout",
          "text": [
            "Extracting ./MNIST/raw/t10k-labels-idx1-ubyte.gz to ./MNIST/raw\n",
            "\n"
          ]
        },
        {
          "output_type": "stream",
          "name": "stderr",
          "text": [
            "\n"
          ]
        }
      ],
      "source": [
        "# Setting the training parameters\n",
        "z_dim = 64\n",
        "display_step = 500\n",
        "batch_size = 128\n",
        "lr = 0.0002\n",
        "beta_1 = 0.5\n",
        "beta_2 = 0.999\n",
        "\n",
        "transform = transforms.Compose([\n",
        "    transforms.ToTensor(),\n",
        "    transforms.Normalize((0.5,), (0.5,)),\n",
        "])\n",
        "\n",
        "dataloader = DataLoader(\n",
        "    MNIST('.', download=True, transform=transform),\n",
        "    batch_size=batch_size,\n",
        "    shuffle=True)"
      ]
    },
    {
      "cell_type": "code",
      "execution_count": 14,
      "metadata": {
        "cell_id": "00026-63570cbe-eefc-4560-8e60-22a1783b7aaa",
        "deepnote_cell_type": "code",
        "id": "EcJYG8b7KYzB"
      },
      "outputs": [],
      "source": [
        "gen = Generator(z_dim).to(device)\n",
        "gen_opt = torch.optim.Adam(gen.parameters(), lr=lr, betas=(beta_1, beta_2))\n",
        "disc = Discriminator().to(device)\n",
        "disc_opt = torch.optim.Adam(disc.parameters(), lr=lr, betas=(beta_1, beta_2))\n",
        "\n",
        "def weights_init(m):\n",
        "    if isinstance(m, nn.Conv2d) or isinstance(m, nn.ConvTranspose2d):\n",
        "        torch.nn.init.normal_(m.weight, 0.0, 0.02)\n",
        "    if isinstance(m, nn.BatchNorm2d):\n",
        "        torch.nn.init.normal_(m.weight, 0.0, 0.02)\n",
        "        torch.nn.init.constant_(m.bias, 0)\n",
        "gen = gen.apply(weights_init)\n",
        "disc = disc.apply(weights_init)"
      ]
    },
    {
      "cell_type": "markdown",
      "metadata": {
        "cell_id": "00033-6340f2d3-8a70-44ce-95e5-4398414d6003",
        "deepnote_cell_type": "markdown",
        "id": "7lKtLP4yKYzC"
      },
      "source": [
        "<h2> Wasserstein  Conditional GAN with Gradient Penalty (WCGAN-GP) </h2>\n",
        "\n",
        "Hasta el momento se implementó un modelo genérico de CCGAN, el factor que lo vuelve una WCGAN-GP es la definicion de su funcion de loss\n",
        " que resuelve alguno de los problemas de estabilidad en el entrenamiento de GANs. <br>En este modelo, se modifica la loss estándar que era una adaptacion de una Binary Cross Entropy por la W-loss correspondiente a una distancia de Wasserstein, y se agrega un término de penalización por gradiente que ayuda a prevenir el problema del <i>mode collapse</i>.\n",
        "\n",
        "Debido a que los cambios del modelo son hechos a la loss, es posible utilizar el mismo Generador y Discriminador de la CCGAN. <br>En esta ocasión, el discriminador pasará a llamarse crítico, por su función de entregar valores reales a cada uno de los ejemplos presentados, en vez de clasificarlos como real/falso.\n",
        "\n",
        "Comenzaremos por definir una función de utilidad para poder hacer seguimiento de los valores del gradiente, e inicializar nuevamente los pesos."
      ]
    },
    {
      "cell_type": "code",
      "execution_count": 15,
      "metadata": {
        "cell_id": "00034-86ce7f34-f287-40bd-b5d9-399992a7d0e1",
        "deepnote_cell_type": "code",
        "id": "lov5h30IKYzD"
      },
      "outputs": [],
      "source": [
        "def make_grad_hook():\n",
        "    grads = []\n",
        "    def grad_hook(m):\n",
        "        if isinstance(m, nn.Conv2d) or isinstance(m, nn.ConvTranspose2d):\n",
        "            grads.append(m.weight.grad)\n",
        "    return grads, grad_hook"
      ]
    },
    {
      "cell_type": "code",
      "execution_count": 16,
      "metadata": {
        "cell_id": "00035-aba6910f-22f6-4612-bd53-6a99b7f5c118",
        "deepnote_cell_type": "code",
        "id": "IFLQ039u-qdu"
      },
      "outputs": [],
      "source": [
        "# New training parameters\n",
        "n_epochs = 100\n",
        "display_step = 50\n",
        "c_lambda = 10\n",
        "crit_repeats = 5"
      ]
    },
    {
      "cell_type": "code",
      "execution_count": 17,
      "metadata": {
        "cell_id": "00036-c0232379-acbf-4e70-825a-be29765d4378",
        "deepnote_cell_type": "code",
        "id": "sDFRZ8tg_Y57"
      },
      "outputs": [],
      "source": [
        "gen = Generator(z_dim).to(device)\n",
        "gen_opt = torch.optim.Adam(gen.parameters(), lr=lr, betas=(beta_1, beta_2))\n",
        "crit = Discriminator().to(device)\n",
        "crit_opt = torch.optim.Adam(crit.parameters(), lr=lr, betas=(beta_1, beta_2))\n",
        "\n",
        "gen = gen.apply(weights_init)\n",
        "crit = crit.apply(weights_init)"
      ]
    },
    {
      "cell_type": "markdown",
      "metadata": {
        "cell_id": "00037-450a7080-b7dd-4d01-b57f-c5de98c80a40",
        "deepnote_cell_type": "markdown",
        "id": "BFEi5BhVX5-P"
      },
      "source": [
        "## Gradient Penalty\n",
        "\n",
        "La loss del discriminador requerirá de un término adicional de penalización.\n",
        "Este corresponde a\n",
        "$ \\displaystyle \\mathop{\\mathbb{E }}_{\\hat{\\mathbf{x}}}[ (\\lVert \\nabla_{\\hat{\\mathbf{x}}} D(\\hat{\\mathbf{x}}) \\rVert - 1)^2 ]$\n",
        "\n",
        "Para ello se realizaron los siguientes pasos:\n",
        "   - Calcular $\\hat{x}$, un promedio ponderado entre imágenes reales y falsas: $\\hat{\\mathbf{x}} = \\epsilon \\mathbf{x} + (1-\\epsilon)G(\\mathbf{z})$, siendo $\\epsilon$ escogido aleatoriamente entre 0 y 1\n",
        "   - Calcular el <i> score </i> entregado por el crítico a $\\hat{x}$\n",
        "   - Calcular el gradiente.\n",
        "   - Computar el término de gradient penalty."
      ]
    },
    {
      "cell_type": "code",
      "execution_count": 18,
      "metadata": {
        "cell_id": "00038-05b9d049-2deb-489c-8766-879bfbbbb4b4",
        "deepnote_cell_type": "code",
        "id": "Tn4dkXnNtcv6"
      },
      "outputs": [],
      "source": [
        "def get_gradient(crit_model, real_images, fake_images, epsilon, labels):\n",
        "\n",
        "    mixed_images = real_images * epsilon + fake_images * (1 - epsilon)\n",
        "    mixed_scores = crit_model(mixed_images, labels)\n",
        "\n",
        "    # Take the gradient of the scores with respect to the images\n",
        "    gradient = torch.autograd.grad(\n",
        "        inputs=mixed_images,\n",
        "        outputs=mixed_scores,\n",
        "        # These other parameters have to do with how the pytorch autograd engine works\n",
        "        grad_outputs=torch.ones_like(mixed_scores),\n",
        "        create_graph=True,\n",
        "        retain_graph=True,\n",
        "    )[0]\n",
        "    return gradient\n"
      ]
    },
    {
      "cell_type": "code",
      "execution_count": 19,
      "metadata": {
        "cell_id": "00039-fd0bd0e0-9f36-4787-868f-44bf25c5f71f",
        "colab": {
          "base_uri": "https://localhost:8080/"
        },
        "deepnote_cell_type": "code",
        "id": "8av4TtbMtkTq",
        "outputId": "dcd07b26-bf36-4b68-8983-7df125ab708b"
      },
      "outputs": [
        {
          "output_type": "stream",
          "name": "stdout",
          "text": [
            "Well done !\n"
          ]
        }
      ],
      "source": [
        "def test_get_gradient(image_shape):\n",
        "    real = torch.randn(*image_shape, device=device) + 1\n",
        "    labels = torch.randint(0, 10, (image_shape[0],), device=device)\n",
        "    fake = torch.randn(*image_shape, device=device) - 1\n",
        "    epsilon_shape = [1 for _ in image_shape]\n",
        "    epsilon_shape[0] = image_shape[0]\n",
        "    epsilon = torch.rand(epsilon_shape, device=device).requires_grad_()\n",
        "    gradient = get_gradient(crit, real, fake, epsilon, labels)\n",
        "    assert tuple(gradient.shape) == image_shape\n",
        "    assert gradient.max() > 0\n",
        "    assert gradient.min() < 0\n",
        "    return gradient\n",
        "\n",
        "gradient = test_get_gradient((256, 1, 28, 28))\n",
        "print(\"Well done !\")"
      ]
    },
    {
      "cell_type": "markdown",
      "metadata": {
        "cell_id": "00040-28f7e961-3148-40a2-ae80-34f350b69f6b",
        "deepnote_cell_type": "markdown",
        "id": "Z5PMRrMpRUK-"
      },
      "source": [
        "Una vez definido el gradiente, se definió el método `gradient_penalty` para calcular el término completo de penalización de gradiente, dado los gradientes\n",
        "\n"
      ]
    },
    {
      "cell_type": "code",
      "execution_count": 20,
      "metadata": {
        "cell_id": "00041-e56fc265-6035-4342-8a00-b9e85acd3d3b",
        "deepnote_cell_type": "code",
        "id": "VPwBH83IzCpS"
      },
      "outputs": [],
      "source": [
        "def gradient_penalty(gradient):\n",
        "\n",
        "    gradient = gradient.view(len(gradient), -1)\n",
        "\n",
        "    # Calculate the magnitude of every row\n",
        "    gradient_norm = gradient.norm(2, dim=1)\n",
        "\n",
        "    # Penalize the mean squared distance of the gradient norms from 1\n",
        "    penalty = torch.mean((gradient_norm - 1)**2)\n",
        "    return penalty"
      ]
    },
    {
      "cell_type": "code",
      "execution_count": 21,
      "metadata": {
        "cell_id": "00042-2aa6ec0d-4b1e-4a82-ab94-86279dc93cea",
        "colab": {
          "base_uri": "https://localhost:8080/"
        },
        "deepnote_cell_type": "code",
        "id": "ahPfGMA2zABQ",
        "outputId": "e62077b8-47b9-44fe-aea6-018d8e67820f"
      },
      "outputs": [
        {
          "output_type": "stream",
          "name": "stdout",
          "text": [
            "Well done !\n"
          ]
        }
      ],
      "source": [
        "# UNIT TEST\n",
        "def test_gradient_penalty(image_shape):\n",
        "    bad_gradient = torch.zeros(*image_shape)\n",
        "    bad_gradient_penalty = gradient_penalty(bad_gradient)\n",
        "    assert torch.isclose(bad_gradient_penalty, torch.tensor(1.))\n",
        "\n",
        "    image_size = torch.prod(torch.Tensor(image_shape[1:]))\n",
        "    good_gradient = torch.ones(*image_shape) / torch.sqrt(image_size)\n",
        "    good_gradient_penalty = gradient_penalty(good_gradient)\n",
        "    assert torch.isclose(good_gradient_penalty, torch.tensor(0.))\n",
        "\n",
        "    random_gradient = test_get_gradient(image_shape)\n",
        "    random_gradient_penalty = gradient_penalty(random_gradient)\n",
        "    assert torch.abs(random_gradient_penalty - 1) < 0.1\n",
        "\n",
        "test_gradient_penalty((256, 1, 28, 28))\n",
        "print(\"Well done !\")"
      ]
    },
    {
      "cell_type": "markdown",
      "metadata": {
        "cell_id": "00043-6de7bba7-5b64-45b1-8389-d5c3c3002f94",
        "deepnote_cell_type": "markdown",
        "id": "Sob-u9Z1X9sb"
      },
      "source": [
        "## Losses\n",
        "\n",
        "En una WCGAN-GP, el discriminador se utiliza para aproximar la distancia de Wasserstein, la cual está dada por la expresión:  \n",
        "\n",
        "$\\mathbb{W} \\approx \\displaystyle \\mathop{\\mathbb{E }}_{{\\mathbf{x}}}[D(\\mathbf{x})] - \\displaystyle \\mathop{\\mathbb{E }}_{\\mathbf{x}'=G(\\mathbf{z})} [D(G(\\mathbf{z}))] + \\displaystyle \\mathop{\\mathbb{E }}_{\\hat{\\mathbf{x}}} \\lambda (\\lVert \\nabla_{\\hat{\\mathbf{x}}} D(\\hat{\\mathbf{x}}) \\rVert - 1)^2 $\n",
        "\n",
        "Para ello se implementaron los métodos `get_gen_wloss` y `get_crit_wloss` que devuelvan $L_{D}$ y $L_{G}$, los cuales serán utilizados para maximizar y minimizar $\\mathbb{W}$, respectivamente."
      ]
    },
    {
      "cell_type": "code",
      "execution_count": 22,
      "metadata": {
        "cell_id": "00044-055bdc06-2dbc-4033-9a99-64e6beddce36",
        "deepnote_cell_type": "code",
        "id": "YnJFs-qkMCA-"
      },
      "outputs": [],
      "source": [
        "def get_gen_wloss(crit_fake_pred):\n",
        "    gen_loss = -torch.mean(crit_fake_pred)\n",
        "    return gen_loss"
      ]
    },
    {
      "cell_type": "code",
      "execution_count": 23,
      "metadata": {
        "cell_id": "00045-b9a2b4ab-05bb-4480-ac14-b4f29d24c935",
        "colab": {
          "base_uri": "https://localhost:8080/"
        },
        "deepnote_cell_type": "code",
        "id": "fYVqG8bR6Hfg",
        "outputId": "f2c7f049-59ad-4b5d-b3b2-3667c3bc69cc"
      },
      "outputs": [
        {
          "output_type": "stream",
          "name": "stdout",
          "text": [
            "Well done !\n"
          ]
        }
      ],
      "source": [
        "# UNIT TEST\n",
        "assert torch.isclose(\n",
        "    get_gen_wloss(torch.tensor(1.)), torch.tensor(-1.0)\n",
        ")\n",
        "\n",
        "assert torch.isclose(\n",
        "    get_gen_wloss(torch.rand(10000)), torch.tensor(-0.5), 0.05\n",
        ")\n",
        "\n",
        "print(\"Well done !\")"
      ]
    },
    {
      "cell_type": "code",
      "execution_count": 24,
      "metadata": {
        "cell_id": "00046-b5cbd20e-e86c-4535-96a0-958a62eede0d",
        "deepnote_cell_type": "code",
        "id": "-jvbz1zDMTdu"
      },
      "outputs": [],
      "source": [
        "def get_crit_wloss(crit_fake_pred, crit_real_pred, gp, c_lambda):\n",
        "    crit_loss = torch.mean(crit_fake_pred) - torch.mean(crit_real_pred) + c_lambda * gp\n",
        "    return crit_loss"
      ]
    },
    {
      "cell_type": "code",
      "execution_count": 25,
      "metadata": {
        "cell_id": "00047-32d5a95d-b4cb-4462-bb60-4243bccf0adf",
        "colab": {
          "base_uri": "https://localhost:8080/"
        },
        "deepnote_cell_type": "code",
        "id": "dxZey6fc5luf",
        "outputId": "868d59cc-248e-44bf-e453-f56745a1cc92"
      },
      "outputs": [
        {
          "output_type": "stream",
          "name": "stdout",
          "text": [
            "Well done !\n"
          ]
        }
      ],
      "source": [
        "# UNIT TEST\n",
        "assert torch.isclose(\n",
        "    get_crit_wloss(torch.tensor(1.), torch.tensor(2.), torch.tensor(3.), 0.1),\n",
        "    torch.tensor(-0.7)\n",
        ")\n",
        "assert torch.isclose(\n",
        "    get_crit_wloss(torch.tensor(20.), torch.tensor(-20.), torch.tensor(2.), 10),\n",
        "    torch.tensor(60.)\n",
        ")\n",
        "\n",
        "print(\"Well done !\")"
      ]
    },
    {
      "cell_type": "markdown",
      "metadata": {
        "cell_id": "00048-0bdc0dc3-9bdf-4048-9705-3506e014f363",
        "deepnote_cell_type": "markdown",
        "id": "_x5wu7rUMlnZ"
      },
      "source": [
        "## Entrenamiento WCGAN-GP\n",
        "\n",
        "\n",
        "El entrenamiento es más lento debido a que en cada iteración se debe calcular el término de penalización de gradiente, lo cual requiere de un cálculo adicional de la función de pérdida del discriminador, por lo que el entrenamiento es más lento.\n",
        "\n",
        "Además, notar que en el entrenamiento, se realizan varias actualizaiciones del crítico por actualizaciones del generador para intentar compensar por la regularizacion aplicada, y que el generador no gane fácilmente el juego.\n",
        "\n",
        "Finalmente, si bien la WCGAN-GP podría no ser mejor en cuanto calidad de imágenes generadas, mejora significativamente la estabilidad del entrenamiento y evita el <i> mode collapse </i>. Por esto, debería poder entrenar una WGAN-GP por muchas épocas sin sufrir de este problema."
      ]
    },
    {
      "cell_type": "code",
      "execution_count": null,
      "metadata": {
        "cell_id": "00049-36a53aa7-6a77-499a-91de-86f2b90a36b7",
        "deepnote_cell_type": "code",
        "id": "UXptQZcwrBrq"
      },
      "outputs": [],
      "source": [
        "if is_train:\n",
        "    cur_step = 0\n",
        "    generator_losses = []\n",
        "    critic_losses = []\n",
        "    for epoch in range(n_epochs):\n",
        "        for real, labels in tqdm(dataloader):\n",
        "            cur_batch_size = len(real)\n",
        "            real = real.to(device)\n",
        "            labels = labels.to(device)\n",
        "            mean_iteration_critic_loss = 0\n",
        "            for _ in range(crit_repeats):\n",
        "                # Update critic\n",
        "                crit_opt.zero_grad()\n",
        "                fake_noise = get_noise(cur_batch_size, z_dim, device=device)\n",
        "                fake = gen(fake_noise, labels)\n",
        "                crit_real_pred = crit(real, labels.detach())\n",
        "                crit_fake_pred = crit(fake.detach(), labels.detach())\n",
        "                epsilon = torch.rand(len(real), 1, 1, 1, device=device, requires_grad=True)\n",
        "                gradient = get_gradient(crit, real, fake.detach(), epsilon,labels)\n",
        "                gp = gradient_penalty(gradient)\n",
        "                crit_loss = get_crit_wloss(crit_fake_pred, crit_real_pred, gp, c_lambda)\n",
        "                mean_iteration_critic_loss += crit_loss.item() / crit_repeats\n",
        "                # Update gradients\n",
        "                crit_loss.backward(retain_graph=True)\n",
        "                # Update optimizer\n",
        "                crit_opt.step()\n",
        "            critic_losses += [mean_iteration_critic_loss]\n",
        "\n",
        "            # Update generator\n",
        "            gen_opt.zero_grad()\n",
        "            fake_noise_2 = get_noise(cur_batch_size, z_dim, device=device)\n",
        "            fake_2 = gen(fake_noise_2, labels)\n",
        "            crit_fake_pred = crit(fake_2, labels)\n",
        "\n",
        "            gen_loss = get_gen_wloss(crit_fake_pred)\n",
        "            gen_loss.backward()\n",
        "\n",
        "            # Update the weights\n",
        "            gen_opt.step()\n",
        "\n",
        "            generator_losses += [gen_loss.item()]\n",
        "\n",
        "            # Visualization code\n",
        "            if cur_step % display_step == 0 and cur_step > 0:\n",
        "                display.clear_output(wait=True)\n",
        "                gen_mean = sum(generator_losses[-display_step:]) / display_step\n",
        "                crit_mean = sum(critic_losses[-display_step:]) / display_step\n",
        "                print(f\"Step {cur_step}: Generator loss: {gen_mean}, critic loss: {crit_mean}\")\n",
        "                show_tensor_images(fake, save=True, name='wgangp')\n",
        "                show_tensor_images(real)\n",
        "                step_bins = 20\n",
        "                num_examples = (len(generator_losses) // step_bins) * step_bins\n",
        "                plt.plot(\n",
        "                    range(num_examples // step_bins),\n",
        "                    torch.Tensor(generator_losses[:num_examples]).view(-1, step_bins).mean(1),\n",
        "                    label=\"Generator Loss\"\n",
        "                )\n",
        "                plt.plot(\n",
        "                    range(num_examples // step_bins),\n",
        "                    torch.Tensor(critic_losses[:num_examples]).view(-1, step_bins).mean(1),\n",
        "                    label=\"Critic Loss\"\n",
        "                )\n",
        "                plt.legend()\n",
        "                plt.show()\n",
        "\n",
        "            cur_step += 1"
      ]
    },
    {
      "cell_type": "code",
      "execution_count": null,
      "metadata": {
        "id": "jAJE-TXhKYzN"
      },
      "outputs": [],
      "source": [
        "# Guardar loss\n",
        "# torch.save(generator_losses, 'generator_losses_wgangp')\n",
        "# torch.save(critic_losses, 'critic_losses_wgangp')"
      ]
    },
    {
      "cell_type": "code",
      "execution_count": 26,
      "metadata": {
        "id": "jhU5biz-KYzO"
      },
      "outputs": [],
      "source": [
        "# Cargar loss\n",
        "if not is_train:\n",
        "    generator_losses = torch.load('generator_losses_wgangp.unknown')\n",
        "    critic_losses = torch.load('critic_losses_wgangp.unknown')\n",
        "    gen.load_state_dict(torch.load('wcgangp.unknown', map_location=torch.device(device)))"
      ]
    },
    {
      "cell_type": "code",
      "execution_count": 27,
      "metadata": {
        "colab": {
          "base_uri": "https://localhost:8080/",
          "height": 581
        },
        "id": "Gl-Y978yyauG",
        "outputId": "de11b2c6-5639-49e1-ec7b-e4b18ece8d20"
      },
      "outputs": [
        {
          "output_type": "display_data",
          "data": {
            "text/plain": [
              "<Figure size 2000x1000 with 1 Axes>"
            ],
            "image/png": "[encoded data removed]"
          },
          "metadata": {}
        }
      ],
      "source": [
        "# Improving the visualizations\n",
        "plt.style.use('ggplot')\n",
        "\n",
        "# Plot generator and critic loss (15, 20)\n",
        "plt.subplots(figsize=(20, 10))\n",
        "# Linea delgada\n",
        "plt.plot(generator_losses, label='Generator loss', linewidth=0.2)\n",
        "plt.plot(critic_losses, label='Critic loss', linewidth=0.2)\n",
        "plt.title(\"Training losses\")\n",
        "plt.ylabel(\"Loss\")\n",
        "plt.xlabel(\"Iterations\")\n",
        "plt.legend()\n",
        "plt.show()"
      ]
    },
    {
      "cell_type": "code",
      "execution_count": 28,
      "metadata": {
        "colab": {
          "base_uri": "https://localhost:8080/",
          "height": 926
        },
        "id": "I12vk33NyauG",
        "outputId": "6d68b254-c15b-4bff-bfc8-a4be0172375b"
      },
      "outputs": [
        {
          "output_type": "execute_result",
          "data": {
            "text/plain": [
              "<matplotlib.image.AxesImage at 0x78707119d2d0>"
            ]
          },
          "metadata": {},
          "execution_count": 28
        },
        {
          "output_type": "display_data",
          "data": {
            "text/plain": [
              "<Figure size 1000x1000 with 1 Axes>"
            ],
            "image/png": "[encoded data removed]"
          },
          "metadata": {}
        },
        {
          "output_type": "display_data",
          "data": {
            "text/plain": [
              "<Figure size 1000x1000 with 1 Axes>"
            ],
            "image/png": "[encoded data removed]"
          },
          "metadata": {}
        }
      ],
      "source": [
        "# Generar más imágenes\n",
        "n_interpolation = 64\n",
        "interpolation = gen.intepolation(0, 1, n_interpolation, device=device)\n",
        "import numpy as np\n",
        "# Plot the generated images\n",
        "plt.figure(figsize=(10, 10))\n",
        "plt.axis(\"off\")\n",
        "plt.imshow(\n",
        "    np.transpose(\n",
        "        make_grid(interpolation, padding=2, normalize=True).cpu(), (1, 2, 0)\n",
        "    )\n",
        ")\n",
        "# Generar solo 1\n",
        "plt.figure(figsize=(10, 10))\n",
        "plt.axis(\"off\")\n",
        "plt.imshow(\n",
        "    np.transpose(\n",
        "        make_grid(gen(get_noise(10, z_dim, device=device), torch.tensor([0, 1, 2, 3, 4, 5, 6, 7, 8, 9], device=device)), nrow = 10, padding=2, normalize=True).cpu(), (1, 2, 0)\n",
        "    )\n",
        ")"
      ]
    },
    {
      "cell_type": "markdown",
      "metadata": {
        "cell_id": "00051-bf406c73-799f-42ed-814f-97435569117a",
        "deepnote_cell_type": "markdown",
        "id": "EtDRYNDRKYzP"
      },
      "source": [
        "<h2> Evaluación : Fréchet Inception Distance </h2>"
      ]
    },
    {
      "cell_type": "code",
      "source": [
        "pip install wget"
      ],
      "metadata": {
        "colab": {
          "base_uri": "https://localhost:8080/"
        },
        "id": "NC_JQsOUanpK",
        "outputId": "394c2a05-88df-434e-a143-1a874cee65b3"
      },
      "execution_count": 30,
      "outputs": [
        {
          "output_type": "stream",
          "name": "stdout",
          "text": [
            "Collecting wget\n",
            "  Downloading wget-3.2.zip (10 kB)\n",
            "  Preparing metadata (setup.py) ... \u001b[?25l\u001b[?25hdone\n",
            "Building wheels for collected packages: wget\n",
            "  Building wheel for wget (setup.py) ... \u001b[?25l\u001b[?25hdone\n",
            "  Created wheel for wget: filename=wget-3.2-py3-none-any.whl size=9655 sha256=bc7d75d1715888d12a4cd82077627e304c953eceaf32384788f21d89329d568e\n",
            "  Stored in directory: /root/.cache/pip/wheels/8b/f1/7f/5c94f0a7a505ca1c81cd1d9208ae2064675d97582078e6c769\n",
            "Successfully built wget\n",
            "Installing collected packages: wget\n",
            "Successfully installed wget-3.2\n"
          ]
        }
      ]
    },
    {
      "cell_type": "code",
      "execution_count": 31,
      "metadata": {
        "cell_id": "00052-fd5eb973-7b3e-4e99-aed8-ea86be3bb536",
        "deepnote_cell_type": "code",
        "id": "HeEo1SgpKYzP"
      },
      "outputs": [],
      "source": [
        "import wget\n",
        "import os\n",
        "import seaborn as sns\n",
        "\n",
        "filename = 'inception_v3_google-1a9a5a14.pth'\n",
        "url = 'https://download.pytorch.org/models/inception_v3_google-1a9a5a14.pth'\n",
        "\n",
        "if not os.path.exists(filename):\n",
        "    wget.download(url)"
      ]
    },
    {
      "cell_type": "code",
      "execution_count": 32,
      "metadata": {
        "cell_id": "00053-6424a9ff-98f3-44be-8f1d-94f49fa2dad5",
        "deepnote_cell_type": "code",
        "id": "y4ddNu-OKYzP",
        "colab": {
          "base_uri": "https://localhost:8080/"
        },
        "outputId": "b154289e-3194-4189-bae5-fff8336c84a0"
      },
      "outputs": [
        {
          "output_type": "stream",
          "name": "stderr",
          "text": [
            "/usr/local/lib/python3.10/dist-packages/torchvision/models/_utils.py:208: UserWarning: The parameter 'pretrained' is deprecated since 0.13 and may be removed in the future, please use 'weights' instead.\n",
            "  warnings.warn(\n",
            "/usr/local/lib/python3.10/dist-packages/torchvision/models/_utils.py:223: UserWarning: Arguments other than a weight enum or `None` for 'weights' are deprecated since 0.13 and may be removed in the future. The current behavior is equivalent to passing `weights=None`.\n",
            "  warnings.warn(msg)\n",
            "/usr/local/lib/python3.10/dist-packages/torchvision/models/inception.py:43: FutureWarning: The default weight initialization of inception_v3 will be changed in future releases of torchvision. If you wish to keep the old behavior (which leads to long initialization times due to scipy/scipy#11299), please set init_weights=True.\n",
            "  warnings.warn(\n"
          ]
        }
      ],
      "source": [
        "from torchvision.models import inception_v3\n",
        "\n",
        "inception_model = inception_v3(pretrained=False)\n",
        "inception_model.load_state_dict(torch.load(filename))\n",
        "inception_model.to(device)\n",
        "inception_model = inception_model.eval()"
      ]
    },
    {
      "cell_type": "markdown",
      "metadata": {
        "cell_id": "00054-a6ac3287-ad8d-431f-a447-19f809c02588",
        "deepnote_cell_type": "markdown",
        "id": "uf3kci9d2ROC"
      },
      "source": [
        "**Formula**\n",
        "\n",
        "Basado en el paper \"[The Fréchet distance between multivariate normal distributions](https://core.ac.uk/reader/82269844)\" la distancia de Fréchet entre dos distribuciones gaussianas multivariadas $X$ and $Y$ es:\n",
        "\n",
        "$d(X, Y) = \\Vert\\mu_X-\\mu_Y\\Vert^2 + \\mathrm{Tr}\\left(\\Sigma_X+\\Sigma_Y - 2 \\sqrt{\\Sigma_X \\Sigma_Y}\\right)$"
      ]
    },
    {
      "cell_type": "code",
      "execution_count": 33,
      "metadata": {
        "cell_id": "00055-50495288-eba1-4fa0-abaa-685114c19881",
        "deepnote_cell_type": "code",
        "id": "iOlCmNPiuuhK"
      },
      "outputs": [],
      "source": [
        "import scipy\n",
        "\n",
        "def matrix_sqrt(x):\n",
        "    y = x.cpu().detach().numpy()\n",
        "    y = scipy.linalg.sqrtm(y)\n",
        "    return torch.Tensor(y.real, device=x.device)"
      ]
    },
    {
      "cell_type": "code",
      "execution_count": 34,
      "metadata": {
        "cell_id": "00056-f4aa083d-353f-4142-99a1-1eef95c9cb87",
        "deepnote_cell_type": "code",
        "id": "_hLWk57s91it"
      },
      "outputs": [],
      "source": [
        "def frechet_distance(mu_x, mu_y, sigma_x, sigma_y):\n",
        "    fd = torch.norm(mu_x - mu_y)**2 + torch.trace(sigma_x + sigma_y - 2 * matrix_sqrt(sigma_x @ sigma_y))\n",
        "    return fd"
      ]
    },
    {
      "cell_type": "code",
      "execution_count": 35,
      "metadata": {
        "cell_id": "00057-62732283-3ffc-406c-a923-d79bb25292db",
        "deepnote_cell_type": "code",
        "id": "Pphv97XEgPDh",
        "colab": {
          "base_uri": "https://localhost:8080/"
        },
        "outputId": "6dc3624c-17f6-415a-d680-6e6c748b9910"
      },
      "outputs": [
        {
          "output_type": "stream",
          "name": "stdout",
          "text": [
            "Well done !\n"
          ]
        }
      ],
      "source": [
        "# UNIT TESTS\n",
        "\n",
        "from torch.distributions import MultivariateNormal\n",
        "\n",
        "mean1 = torch.Tensor([0, 0])\n",
        "covariance1 = torch.Tensor(\n",
        "    [[1, 0],\n",
        "     [0, 1]]\n",
        ")\n",
        "dist1 = MultivariateNormal(mean1, covariance1)\n",
        "\n",
        "mean2 = torch.Tensor([0, 0])\n",
        "covariance2 = torch.Tensor(\n",
        "    [[2, -1],\n",
        "     [-1, 2]]\n",
        ")\n",
        "dist2 = MultivariateNormal(mean2, covariance2)\n",
        "\n",
        "assert torch.isclose(\n",
        "    frechet_distance(\n",
        "        dist1.mean, dist2.mean,\n",
        "        dist1.covariance_matrix, dist2.covariance_matrix\n",
        "    ),\n",
        "    4 - 2 * torch.sqrt(torch.tensor(3.))\n",
        ")\n",
        "\n",
        "assert (frechet_distance(\n",
        "        dist1.mean, dist1.mean,\n",
        "        dist1.covariance_matrix, dist1.covariance_matrix\n",
        "    ).item() == 0)\n",
        "\n",
        "print(\"Well done !\")"
      ]
    },
    {
      "cell_type": "markdown",
      "metadata": {
        "cell_id": "00058-ebeb8254-1d84-4378-a840-734527051085",
        "deepnote_cell_type": "markdown",
        "id": "r9dMgbxGCTno"
      },
      "source": [
        "Para usar la función `frechet_distance`, se crea el método `get_covariance` el cual entrega la matriz de covarianza a partir de una lista de features."
      ]
    },
    {
      "cell_type": "code",
      "execution_count": 36,
      "metadata": {
        "cell_id": "00059-6bf844b4-7da3-4650-8c08-d00671d063c7",
        "deepnote_cell_type": "code",
        "id": "4BEbwlGLiPWJ"
      },
      "outputs": [],
      "source": [
        "import numpy as np\n",
        "\n",
        "def get_covariance(features):\n",
        "    return torch.Tensor(np.cov(features.detach().numpy(), rowvar=False))"
      ]
    },
    {
      "cell_type": "markdown",
      "metadata": {
        "cell_id": "00060-db0dbe26-17dc-4df7-88f1-b5ce1b28f64c",
        "deepnote_cell_type": "markdown",
        "id": "Sw5obaXjVv_v"
      },
      "source": [
        "Finalmente, se utilizará el modelo Inception-v3 pre-entrenado para calcular los features en imágenes reales y generadas, para luego obtener la métrica de FID de los dos modelos entrenados con anterioridad."
      ]
    },
    {
      "cell_type": "code",
      "execution_count": 37,
      "metadata": {
        "cell_id": "00061-c9dbb61a-e7bc-4672-9224-b352df9d5b10",
        "deepnote_cell_type": "code",
        "id": "qQwHSAhrf0hX"
      },
      "outputs": [],
      "source": [
        "fake_features_list = []\n",
        "real_features_list = []\n",
        "fake_baseline_features_list = []\n",
        "real_baseline_features_list = []\n",
        "\n",
        "gen.eval()\n",
        "n_samples = 10000 # The total number of samples\n",
        "batch_size = 64 # Samples per iteration\n",
        "\n",
        "dataloader = DataLoader(MNIST('.', download=False, transform=transform),\n",
        "                        batch_size=batch_size,\n",
        "                        shuffle=True)\n",
        "\n",
        "def preprocess(img):\n",
        "    img = torch.nn.functional.interpolate(img, size=(299, 299), mode='bilinear', align_corners=False)\n",
        "    img = img.repeat(1,3,1,1)\n",
        "    return img\n",
        "\n",
        "def compute_features(gen, baseline = False):\n",
        "    cur_samples = 0\n",
        "    with torch.no_grad():\n",
        "        if not baseline:\n",
        "            print(\"Computing features...\")\n",
        "            for real_example, _ in tqdm(dataloader, total=n_samples // batch_size):\n",
        "                print(\"Computing features loop...\")\n",
        "                real_samples = preprocess(real_example)\n",
        "                real_features = inception_model(real_samples.to(device)).detach().to('cpu')\n",
        "                real_features_list.append(real_features)\n",
        "\n",
        "                fake_samples = get_noise(len(real_example), z_dim).to(device)\n",
        "                fake_samples = preprocess(gen(fake_samples))\n",
        "                fake_features = inception_model(fake_samples.to(device)).detach().to('cpu')\n",
        "                fake_features_list.append(fake_features)\n",
        "                cur_samples += len(real_samples)\n",
        "                print(cur_samples)\n",
        "                if cur_samples >= n_samples:\n",
        "                    return real_features_list, fake_features_list\n",
        "        else:\n",
        "            print(\"Computing features...\")\n",
        "            for real_example, _ in tqdm(dataloader, total=n_samples // batch_size):\n",
        "                print(\"Computing features loop...\")\n",
        "                real_samples = preprocess(real_example)\n",
        "                real_features = inception_model(real_samples.to(device)).detach().to('cpu')\n",
        "                real_baseline_features_list.append(real_features)\n",
        "\n",
        "                fake_samples = get_noise(len(real_example), z_dim).to(device)\n",
        "                fake_samples = preprocess(baseline_gen(fake_samples))\n",
        "                fake_features = inception_model(fake_samples.to(device)).detach().to('cpu')\n",
        "                fake_baseline_features_list.append(fake_features)\n",
        "                cur_samples += len(real_samples)\n",
        "                print(cur_samples)\n",
        "                if cur_samples >= n_samples:\n",
        "                    return real_baseline_features_list, fake_baseline_features_list\n",
        "\n",
        "\n",
        "        # except:\n",
        "        #     print(\"Error in loop\")"
      ]
    },
    {
      "cell_type": "code",
      "source": [
        "baseline_gen = Generator(z_dim).to(device)"
      ],
      "metadata": {
        "id": "b0NhyNXiaGFI"
      },
      "execution_count": 40,
      "outputs": []
    },
    {
      "cell_type": "code",
      "source": [
        "fake_baseline_features_list, real_baseline_features_list = compute_features(baseline_gen, baseline = True)"
      ],
      "metadata": {
        "colab": {
          "base_uri": "https://localhost:8080/",
          "height": 1000,
          "referenced_widgets": [
            "bc9e3c10b6a84b6eb1edf6d02fe39c60",
            "bd028957e3504d3f800d4a1c30288c45",
            "bb6fd1c956ee4df088b7cde8cc8420fb",
            "4c94052959864607a6e8496b21b80f9b",
            "29c857c4216c4858b3f83b257ece15d1",
            "45ac79345cb44a3496252c22216ece85",
            "9da3c1024826426ea96e3bfad6e7512e",
            "d4a94edba70c4efbb9a877405c3a4c02",
            "bc7474a419c341e2b4b3d436a182c27e",
            "3e6b54463888468f9ddd22c1cb80a878",
            "e3eb2280e1db45318d846ab770b8a16a"
          ]
        },
        "id": "YIjZbsssaO-5",
        "outputId": "aa20c859-c162-4c85-bd16-040ae7a0eebe"
      },
      "execution_count": 41,
      "outputs": [
        {
          "output_type": "stream",
          "name": "stdout",
          "text": [
            "Computing features...\n"
          ]
        },
        {
          "output_type": "display_data",
          "data": {
            "text/plain": [
              "  0%|          | 0/156 [00:00<?, ?it/s]"
            ],
            "application/vnd.jupyter.widget-view+json": {
              "version_major": 2,
              "version_minor": 0,
              "model_id": "bc9e3c10b6a84b6eb1edf6d02fe39c60"
            }
          },
          "metadata": {}
        },
        {
          "output_type": "stream",
          "name": "stdout",
          "text": [
            "Computing features loop...\n",
            "64\n",
            "Computing features loop...\n",
            "128\n",
            "Computing features loop...\n",
            "192\n",
            "Computing features loop...\n",
            "256\n",
            "Computing features loop...\n",
            "320\n",
            "Computing features loop...\n",
            "384\n",
            "Computing features loop...\n",
            "448\n",
            "Computing features loop...\n",
            "512\n",
            "Computing features loop...\n",
            "576\n",
            "Computing features loop...\n",
            "640\n",
            "Computing features loop...\n",
            "704\n",
            "Computing features loop...\n",
            "768\n",
            "Computing features loop...\n",
            "832\n",
            "Computing features loop...\n",
            "896\n",
            "Computing features loop...\n",
            "960\n",
            "Computing features loop...\n",
            "1024\n",
            "Computing features loop...\n",
            "1088\n",
            "Computing features loop...\n",
            "1152\n",
            "Computing features loop...\n",
            "1216\n",
            "Computing features loop...\n",
            "1280\n",
            "Computing features loop...\n",
            "1344\n",
            "Computing features loop...\n",
            "1408\n",
            "Computing features loop...\n",
            "1472\n",
            "Computing features loop...\n",
            "1536\n",
            "Computing features loop...\n",
            "1600\n",
            "Computing features loop...\n",
            "1664\n",
            "Computing features loop...\n",
            "1728\n",
            "Computing features loop...\n",
            "1792\n",
            "Computing features loop...\n",
            "1856\n",
            "Computing features loop...\n",
            "1920\n",
            "Computing features loop...\n",
            "1984\n",
            "Computing features loop...\n",
            "2048\n",
            "Computing features loop...\n",
            "2112\n",
            "Computing features loop...\n",
            "2176\n",
            "Computing features loop...\n",
            "2240\n",
            "Computing features loop...\n",
            "2304\n",
            "Computing features loop...\n",
            "2368\n",
            "Computing features loop...\n",
            "2432\n",
            "Computing features loop...\n",
            "2496\n",
            "Computing features loop...\n",
            "2560\n",
            "Computing features loop...\n",
            "2624\n",
            "Computing features loop...\n",
            "2688\n",
            "Computing features loop...\n",
            "2752\n",
            "Computing features loop...\n",
            "2816\n",
            "Computing features loop...\n",
            "2880\n",
            "Computing features loop...\n",
            "2944\n",
            "Computing features loop...\n",
            "3008\n",
            "Computing features loop...\n",
            "3072\n",
            "Computing features loop...\n",
            "3136\n",
            "Computing features loop...\n",
            "3200\n",
            "Computing features loop...\n",
            "3264\n",
            "Computing features loop...\n",
            "3328\n",
            "Computing features loop...\n",
            "3392\n",
            "Computing features loop...\n",
            "3456\n",
            "Computing features loop...\n",
            "3520\n",
            "Computing features loop...\n",
            "3584\n",
            "Computing features loop...\n",
            "3648\n",
            "Computing features loop...\n",
            "3712\n",
            "Computing features loop...\n",
            "3776\n",
            "Computing features loop...\n",
            "3840\n",
            "Computing features loop...\n",
            "3904\n",
            "Computing features loop...\n",
            "3968\n",
            "Computing features loop...\n",
            "4032\n",
            "Computing features loop...\n",
            "4096\n",
            "Computing features loop...\n",
            "4160\n",
            "Computing features loop...\n",
            "4224\n",
            "Computing features loop...\n",
            "4288\n",
            "Computing features loop...\n",
            "4352\n",
            "Computing features loop...\n",
            "4416\n",
            "Computing features loop...\n",
            "4480\n",
            "Computing features loop...\n",
            "4544\n",
            "Computing features loop...\n",
            "4608\n",
            "Computing features loop...\n",
            "4672\n",
            "Computing features loop...\n",
            "4736\n",
            "Computing features loop...\n",
            "4800\n",
            "Computing features loop...\n",
            "4864\n",
            "Computing features loop...\n",
            "4928\n",
            "Computing features loop...\n",
            "4992\n",
            "Computing features loop...\n",
            "5056\n",
            "Computing features loop...\n",
            "5120\n",
            "Computing features loop...\n",
            "5184\n",
            "Computing features loop...\n",
            "5248\n",
            "Computing features loop...\n",
            "5312\n",
            "Computing features loop...\n",
            "5376\n",
            "Computing features loop...\n",
            "5440\n",
            "Computing features loop...\n",
            "5504\n",
            "Computing features loop...\n",
            "5568\n",
            "Computing features loop...\n",
            "5632\n",
            "Computing features loop...\n",
            "5696\n",
            "Computing features loop...\n",
            "5760\n",
            "Computing features loop...\n",
            "5824\n",
            "Computing features loop...\n",
            "5888\n",
            "Computing features loop...\n",
            "5952\n",
            "Computing features loop...\n",
            "6016\n",
            "Computing features loop...\n",
            "6080\n",
            "Computing features loop...\n",
            "6144\n",
            "Computing features loop...\n",
            "6208\n",
            "Computing features loop...\n",
            "6272\n",
            "Computing features loop...\n",
            "6336\n",
            "Computing features loop...\n",
            "6400\n",
            "Computing features loop...\n",
            "6464\n",
            "Computing features loop...\n",
            "6528\n",
            "Computing features loop...\n",
            "6592\n",
            "Computing features loop...\n",
            "6656\n",
            "Computing features loop...\n",
            "6720\n",
            "Computing features loop...\n",
            "6784\n",
            "Computing features loop...\n",
            "6848\n",
            "Computing features loop...\n",
            "6912\n",
            "Computing features loop...\n",
            "6976\n",
            "Computing features loop...\n",
            "7040\n",
            "Computing features loop...\n",
            "7104\n",
            "Computing features loop...\n",
            "7168\n",
            "Computing features loop...\n",
            "7232\n",
            "Computing features loop...\n",
            "7296\n",
            "Computing features loop...\n",
            "7360\n",
            "Computing features loop...\n",
            "7424\n",
            "Computing features loop...\n",
            "7488\n",
            "Computing features loop...\n",
            "7552\n",
            "Computing features loop...\n",
            "7616\n",
            "Computing features loop...\n",
            "7680\n",
            "Computing features loop...\n",
            "7744\n",
            "Computing features loop...\n",
            "7808\n",
            "Computing features loop...\n",
            "7872\n",
            "Computing features loop...\n",
            "7936\n",
            "Computing features loop...\n",
            "8000\n",
            "Computing features loop...\n",
            "8064\n",
            "Computing features loop...\n",
            "8128\n",
            "Computing features loop...\n",
            "8192\n",
            "Computing features loop...\n",
            "8256\n",
            "Computing features loop...\n",
            "8320\n",
            "Computing features loop...\n",
            "8384\n",
            "Computing features loop...\n",
            "8448\n",
            "Computing features loop...\n",
            "8512\n",
            "Computing features loop...\n",
            "8576\n",
            "Computing features loop...\n",
            "8640\n",
            "Computing features loop...\n",
            "8704\n",
            "Computing features loop...\n",
            "8768\n",
            "Computing features loop...\n",
            "8832\n",
            "Computing features loop...\n",
            "8896\n",
            "Computing features loop...\n",
            "8960\n",
            "Computing features loop...\n",
            "9024\n",
            "Computing features loop...\n",
            "9088\n",
            "Computing features loop...\n",
            "9152\n",
            "Computing features loop...\n",
            "9216\n",
            "Computing features loop...\n",
            "9280\n",
            "Computing features loop...\n",
            "9344\n",
            "Computing features loop...\n",
            "9408\n",
            "Computing features loop...\n",
            "9472\n",
            "Computing features loop...\n",
            "9536\n",
            "Computing features loop...\n",
            "9600\n",
            "Computing features loop...\n",
            "9664\n",
            "Computing features loop...\n",
            "9728\n",
            "Computing features loop...\n",
            "9792\n",
            "Computing features loop...\n",
            "9856\n",
            "Computing features loop...\n",
            "9920\n",
            "Computing features loop...\n",
            "9984\n",
            "Computing features loop...\n",
            "10048\n"
          ]
        }
      ]
    },
    {
      "cell_type": "code",
      "execution_count": null,
      "metadata": {
        "cell_id": "00062-790ac20a-ca4c-441a-907a-a1d2b8f49746",
        "deepnote_cell_type": "code",
        "id": "93if7JQNKYzS",
        "colab": {
          "base_uri": "https://localhost:8080/",
          "height": 1000,
          "referenced_widgets": [
            "dbf4b800671e4929964ecc00ddbc73fb",
            "058251ce21214ff29e4207b17ce425c0",
            "5ef2ecef1d8346d4ab47782e92a79881",
            "c5ee55f87e30445992bf7c285f7a12bb",
            "67186b4fbbd645e3b860edad204e0902",
            "7069c5eb339a4ec4999ac497ece05c98",
            "b53b6484eda64c7f80d2048114a8bb1f",
            "79477d5c26c34f63a956e48ee6e0c6cb",
            "061afcbafdbe4ca49c03d5877932f6df",
            "1b9e9dc4920b4a26931ac9741ad81aab",
            "c763ddc8b60e4e268bebee8e398d945d"
          ]
        },
        "outputId": "5b6f8c9c-d03f-4fff-f887-697ef3e7faf5"
      },
      "outputs": [
        {
          "output_type": "stream",
          "name": "stdout",
          "text": [
            "Computing features...\n"
          ]
        },
        {
          "output_type": "display_data",
          "data": {
            "text/plain": [
              "  0%|          | 0/156 [00:00<?, ?it/s]"
            ],
            "application/vnd.jupyter.widget-view+json": {
              "version_major": 2,
              "version_minor": 0,
              "model_id": "dbf4b800671e4929964ecc00ddbc73fb"
            }
          },
          "metadata": {}
        },
        {
          "output_type": "stream",
          "name": "stdout",
          "text": [
            "Computing features loop...\n",
            "64\n",
            "Computing features loop...\n",
            "128\n",
            "Computing features loop...\n",
            "192\n",
            "Computing features loop...\n",
            "256\n",
            "Computing features loop...\n",
            "320\n",
            "Computing features loop...\n",
            "384\n",
            "Computing features loop...\n",
            "448\n",
            "Computing features loop...\n",
            "512\n",
            "Computing features loop...\n",
            "576\n",
            "Computing features loop...\n",
            "640\n",
            "Computing features loop...\n",
            "704\n",
            "Computing features loop...\n",
            "768\n",
            "Computing features loop...\n",
            "832\n",
            "Computing features loop...\n",
            "896\n",
            "Computing features loop...\n",
            "960\n",
            "Computing features loop...\n",
            "1024\n",
            "Computing features loop...\n",
            "1088\n",
            "Computing features loop...\n",
            "1152\n",
            "Computing features loop...\n",
            "1216\n",
            "Computing features loop...\n",
            "1280\n",
            "Computing features loop...\n",
            "1344\n",
            "Computing features loop...\n",
            "1408\n",
            "Computing features loop...\n",
            "1472\n",
            "Computing features loop...\n",
            "1536\n",
            "Computing features loop...\n",
            "1600\n",
            "Computing features loop...\n",
            "1664\n",
            "Computing features loop...\n",
            "1728\n",
            "Computing features loop...\n",
            "1792\n",
            "Computing features loop...\n",
            "1856\n",
            "Computing features loop...\n",
            "1920\n",
            "Computing features loop...\n",
            "1984\n",
            "Computing features loop...\n",
            "2048\n",
            "Computing features loop...\n",
            "2112\n",
            "Computing features loop...\n",
            "2176\n",
            "Computing features loop...\n",
            "2240\n",
            "Computing features loop...\n",
            "2304\n",
            "Computing features loop...\n",
            "2368\n",
            "Computing features loop...\n",
            "2432\n",
            "Computing features loop...\n",
            "2496\n",
            "Computing features loop...\n",
            "2560\n",
            "Computing features loop...\n",
            "2624\n",
            "Computing features loop...\n",
            "2688\n",
            "Computing features loop...\n",
            "2752\n",
            "Computing features loop...\n",
            "2816\n",
            "Computing features loop...\n",
            "2880\n",
            "Computing features loop...\n",
            "2944\n",
            "Computing features loop...\n",
            "3008\n",
            "Computing features loop...\n",
            "3072\n",
            "Computing features loop...\n",
            "3136\n",
            "Computing features loop...\n",
            "3200\n",
            "Computing features loop...\n",
            "3264\n",
            "Computing features loop...\n",
            "3328\n",
            "Computing features loop...\n",
            "3392\n",
            "Computing features loop...\n",
            "3456\n",
            "Computing features loop...\n",
            "3520\n",
            "Computing features loop...\n",
            "3584\n",
            "Computing features loop...\n",
            "3648\n",
            "Computing features loop...\n",
            "3712\n",
            "Computing features loop...\n",
            "3776\n",
            "Computing features loop...\n",
            "3840\n",
            "Computing features loop...\n",
            "3904\n",
            "Computing features loop...\n",
            "3968\n",
            "Computing features loop...\n",
            "4032\n",
            "Computing features loop...\n",
            "4096\n",
            "Computing features loop...\n",
            "4160\n",
            "Computing features loop...\n",
            "4224\n",
            "Computing features loop...\n",
            "4288\n",
            "Computing features loop...\n",
            "4352\n",
            "Computing features loop...\n",
            "4416\n",
            "Computing features loop...\n",
            "4480\n",
            "Computing features loop...\n",
            "4544\n",
            "Computing features loop...\n",
            "4608\n",
            "Computing features loop...\n",
            "4672\n",
            "Computing features loop...\n",
            "4736\n",
            "Computing features loop...\n",
            "4800\n",
            "Computing features loop...\n",
            "4864\n",
            "Computing features loop...\n",
            "4928\n",
            "Computing features loop...\n",
            "4992\n",
            "Computing features loop...\n",
            "5056\n",
            "Computing features loop...\n",
            "5120\n",
            "Computing features loop...\n",
            "5184\n",
            "Computing features loop...\n",
            "5248\n",
            "Computing features loop...\n",
            "5312\n",
            "Computing features loop...\n",
            "5376\n",
            "Computing features loop...\n",
            "5440\n",
            "Computing features loop...\n",
            "5504\n",
            "Computing features loop...\n",
            "5568\n",
            "Computing features loop...\n",
            "5632\n",
            "Computing features loop...\n",
            "5696\n",
            "Computing features loop...\n",
            "5760\n",
            "Computing features loop...\n",
            "5824\n",
            "Computing features loop...\n",
            "5888\n",
            "Computing features loop...\n",
            "5952\n",
            "Computing features loop...\n",
            "6016\n",
            "Computing features loop...\n",
            "6080\n",
            "Computing features loop...\n",
            "6144\n",
            "Computing features loop...\n",
            "6208\n",
            "Computing features loop...\n",
            "6272\n",
            "Computing features loop...\n",
            "6336\n",
            "Computing features loop...\n",
            "6400\n",
            "Computing features loop...\n",
            "6464\n",
            "Computing features loop...\n",
            "6528\n",
            "Computing features loop...\n",
            "6592\n",
            "Computing features loop...\n",
            "6656\n",
            "Computing features loop...\n",
            "6720\n",
            "Computing features loop...\n",
            "6784\n",
            "Computing features loop...\n",
            "6848\n",
            "Computing features loop...\n",
            "6912\n",
            "Computing features loop...\n",
            "6976\n",
            "Computing features loop...\n"
          ]
        }
      ],
      "source": [
        "fake_features_list, real_features_list = compute_features(gen)"
      ]
    },
    {
      "cell_type": "code",
      "execution_count": 47,
      "metadata": {
        "cell_id": "00064-0bb306d0-665a-4054-9ef3-06f4d6f05d06",
        "deepnote_cell_type": "code",
        "id": "UmiOuDulqDTC"
      },
      "outputs": [],
      "source": [
        "fake_features_all = torch.cat(fake_features_list)\n",
        "real_features_all = torch.cat(real_features_list)\n",
        "\n",
        "mu_fake = torch.mean(fake_features_all, dim=0)\n",
        "mu_real = torch.mean(real_features_all, dim=0)\n",
        "sigma_fake = get_covariance(fake_features_all)\n",
        "sigma_real = get_covariance(real_features_all)"
      ]
    },
    {
      "cell_type": "code",
      "execution_count": 48,
      "metadata": {
        "cell_id": "00065-3243a085-9cc2-41f7-a1b0-bd0ce4a0a52c",
        "deepnote_cell_type": "code",
        "id": "iGxjoRGWKYzS",
        "colab": {
          "base_uri": "https://localhost:8080/"
        },
        "outputId": "896fc3f2-81f7-405c-9c0d-ccdd1b326729"
      },
      "outputs": [
        {
          "output_type": "stream",
          "name": "stdout",
          "text": [
            "471.77435302734375\n"
          ]
        }
      ],
      "source": [
        "with torch.no_grad():\n",
        "    print(frechet_distance(mu_real, mu_fake, sigma_real, sigma_fake).item())"
      ]
    },
    {
      "cell_type": "code",
      "source": [
        "fake_baseline_features_all = torch.cat(fake_baseline_features_list)\n",
        "real_baseline_features_all = torch.cat(real_baseline_features_list)\n",
        "\n",
        "baseline_mu_fake = torch.mean(fake_baseline_features_all, dim=0)\n",
        "baseline_mu_real = torch.mean(real_baseline_features_all, dim=0)\n",
        "baseline_sigma_fake = get_covariance(fake_baseline_features_all)\n",
        "baseline_sigma_real = get_covariance(real_baseline_features_all)"
      ],
      "metadata": {
        "id": "T5meOg186yZy"
      },
      "execution_count": null,
      "outputs": []
    },
    {
      "cell_type": "code",
      "source": [
        "with torch.no_grad():\n",
        "    print(frechet_distance(baseline_mu_real, baseline_mu_fake, baseline_sigma_real, baseline_sigma_fake).item())"
      ],
      "metadata": {
        "colab": {
          "base_uri": "https://localhost:8080/"
        },
        "id": "CCV1qi_JceLK",
        "outputId": "fb57fd70-c42a-42aa-ade1-029f11a98eeb"
      },
      "execution_count": 46,
      "outputs": [
        {
          "metadata": {
            "tags": null
          },
          "name": "stdout",
          "output_type": "stream",
          "text": [
            "1747.8985595703125\n"
          ]
        }
      ]
    }
  ],
  "metadata": {
    "accelerator": "GPU",
    "colab": {
      "gpuType": "T4",
      "provenance": []
    },
    "deepnote_execution_queue": [],
    "deepnote_notebook_id": "1f70f78d-5f8d-45ed-8915-43ab35e458cb",
    "kernelspec": {
      "display_name": "Python 3",
      "name": "python3"
    },
    "language_info": {
      "codemirror_mode": {
        "name": "ipython",
        "version": 3
      },
      "file_extension": ".py",
      "mimetype": "text/x-python",
      "name": "python",
      "nbconvert_exporter": "python",
      "pygments_lexer": "ipython3",
      "version": "3.10.9"
    },
    "widgets": {
      "application/vnd.jupyter.widget-state+json": {
        "bc9e3c10b6a84b6eb1edf6d02fe39c60": {
          "model_module": "@jupyter-widgets/controls",
          "model_name": "HBoxModel",
          "model_module_version": "1.5.0",
          "state": {
            "_dom_classes": [],
            "_model_module": "@jupyter-widgets/controls",
            "_model_module_version": "1.5.0",
            "_model_name": "HBoxModel",
            "_view_count": null,
            "_view_module": "@jupyter-widgets/controls",
            "_view_module_version": "1.5.0",
            "_view_name": "HBoxView",
            "box_style": "",
            "children": [
              "IPY_MODEL_bd028957e3504d3f800d4a1c30288c45",
              "IPY_MODEL_bb6fd1c956ee4df088b7cde8cc8420fb",
              "IPY_MODEL_4c94052959864607a6e8496b21b80f9b"
            ],
            "layout": "IPY_MODEL_29c857c4216c4858b3f83b257ece15d1"
          }
        },
        "bd028957e3504d3f800d4a1c30288c45": {
          "model_module": "@jupyter-widgets/controls",
          "model_name": "HTMLModel",
          "model_module_version": "1.5.0",
          "state": {
            "_dom_classes": [],
            "_model_module": "@jupyter-widgets/controls",
            "_model_module_version": "1.5.0",
            "_model_name": "HTMLModel",
            "_view_count": null,
            "_view_module": "@jupyter-widgets/controls",
            "_view_module_version": "1.5.0",
            "_view_name": "HTMLView",
            "description": "",
            "description_tooltip": null,
            "layout": "IPY_MODEL_45ac79345cb44a3496252c22216ece85",
            "placeholder": "​",
            "style": "IPY_MODEL_9da3c1024826426ea96e3bfad6e7512e",
            "value": "100%"
          }
        },
        "bb6fd1c956ee4df088b7cde8cc8420fb": {
          "model_module": "@jupyter-widgets/controls",
          "model_name": "FloatProgressModel",
          "model_module_version": "1.5.0",
          "state": {
            "_dom_classes": [],
            "_model_module": "@jupyter-widgets/controls",
            "_model_module_version": "1.5.0",
            "_model_name": "FloatProgressModel",
            "_view_count": null,
            "_view_module": "@jupyter-widgets/controls",
            "_view_module_version": "1.5.0",
            "_view_name": "ProgressView",
            "bar_style": "danger",
            "description": "",
            "description_tooltip": null,
            "layout": "IPY_MODEL_d4a94edba70c4efbb9a877405c3a4c02",
            "max": 156,
            "min": 0,
            "orientation": "horizontal",
            "style": "IPY_MODEL_bc7474a419c341e2b4b3d436a182c27e",
            "value": 156
          }
        },
        "4c94052959864607a6e8496b21b80f9b": {
          "model_module": "@jupyter-widgets/controls",
          "model_name": "HTMLModel",
          "model_module_version": "1.5.0",
          "state": {
            "_dom_classes": [],
            "_model_module": "@jupyter-widgets/controls",
            "_model_module_version": "1.5.0",
            "_model_name": "HTMLModel",
            "_view_count": null,
            "_view_module": "@jupyter-widgets/controls",
            "_view_module_version": "1.5.0",
            "_view_name": "HTMLView",
            "description": "",
            "description_tooltip": null,
            "layout": "IPY_MODEL_3e6b54463888468f9ddd22c1cb80a878",
            "placeholder": "​",
            "style": "IPY_MODEL_e3eb2280e1db45318d846ab770b8a16a",
            "value": " 156/156 [01:37&lt;00:00,  1.59it/s]"
          }
        },
        "29c857c4216c4858b3f83b257ece15d1": {
          "model_module": "@jupyter-widgets/base",
          "model_name": "LayoutModel",
          "model_module_version": "1.2.0",
          "state": {
            "_model_module": "@jupyter-widgets/base",
            "_model_module_version": "1.2.0",
            "_model_name": "LayoutModel",
            "_view_count": null,
            "_view_module": "@jupyter-widgets/base",
            "_view_module_version": "1.2.0",
            "_view_name": "LayoutView",
            "align_content": null,
            "align_items": null,
            "align_self": null,
            "border": null,
            "bottom": null,
            "display": null,
            "flex": null,
            "flex_flow": null,
            "grid_area": null,
            "grid_auto_columns": null,
            "grid_auto_flow": null,
            "grid_auto_rows": null,
            "grid_column": null,
            "grid_gap": null,
            "grid_row": null,
            "grid_template_areas": null,
            "grid_template_columns": null,
            "grid_template_rows": null,
            "height": null,
            "justify_content": null,
            "justify_items": null,
            "left": null,
            "margin": null,
            "max_height": null,
            "max_width": null,
            "min_height": null,
            "min_width": null,
            "object_fit": null,
            "object_position": null,
            "order": null,
            "overflow": null,
            "overflow_x": null,
            "overflow_y": null,
            "padding": null,
            "right": null,
            "top": null,
            "visibility": null,
            "width": null
          }
        },
        "45ac79345cb44a3496252c22216ece85": {
          "model_module": "@jupyter-widgets/base",
          "model_name": "LayoutModel",
          "model_module_version": "1.2.0",
          "state": {
            "_model_module": "@jupyter-widgets/base",
            "_model_module_version": "1.2.0",
            "_model_name": "LayoutModel",
            "_view_count": null,
            "_view_module": "@jupyter-widgets/base",
            "_view_module_version": "1.2.0",
            "_view_name": "LayoutView",
            "align_content": null,
            "align_items": null,
            "align_self": null,
            "border": null,
            "bottom": null,
            "display": null,
            "flex": null,
            "flex_flow": null,
            "grid_area": null,
            "grid_auto_columns": null,
            "grid_auto_flow": null,
            "grid_auto_rows": null,
            "grid_column": null,
            "grid_gap": null,
            "grid_row": null,
            "grid_template_areas": null,
            "grid_template_columns": null,
            "grid_template_rows": null,
            "height": null,
            "justify_content": null,
            "justify_items": null,
            "left": null,
            "margin": null,
            "max_height": null,
            "max_width": null,
            "min_height": null,
            "min_width": null,
            "object_fit": null,
            "object_position": null,
            "order": null,
            "overflow": null,
            "overflow_x": null,
            "overflow_y": null,
            "padding": null,
            "right": null,
            "top": null,
            "visibility": null,
            "width": null
          }
        },
        "9da3c1024826426ea96e3bfad6e7512e": {
          "model_module": "@jupyter-widgets/controls",
          "model_name": "DescriptionStyleModel",
          "model_module_version": "1.5.0",
          "state": {
            "_model_module": "@jupyter-widgets/controls",
            "_model_module_version": "1.5.0",
            "_model_name": "DescriptionStyleModel",
            "_view_count": null,
            "_view_module": "@jupyter-widgets/base",
            "_view_module_version": "1.2.0",
            "_view_name": "StyleView",
            "description_width": ""
          }
        },
        "d4a94edba70c4efbb9a877405c3a4c02": {
          "model_module": "@jupyter-widgets/base",
          "model_name": "LayoutModel",
          "model_module_version": "1.2.0",
          "state": {
            "_model_module": "@jupyter-widgets/base",
            "_model_module_version": "1.2.0",
            "_model_name": "LayoutModel",
            "_view_count": null,
            "_view_module": "@jupyter-widgets/base",
            "_view_module_version": "1.2.0",
            "_view_name": "LayoutView",
            "align_content": null,
            "align_items": null,
            "align_self": null,
            "border": null,
            "bottom": null,
            "display": null,
            "flex": null,
            "flex_flow": null,
            "grid_area": null,
            "grid_auto_columns": null,
            "grid_auto_flow": null,
            "grid_auto_rows": null,
            "grid_column": null,
            "grid_gap": null,
            "grid_row": null,
            "grid_template_areas": null,
            "grid_template_columns": null,
            "grid_template_rows": null,
            "height": null,
            "justify_content": null,
            "justify_items": null,
            "left": null,
            "margin": null,
            "max_height": null,
            "max_width": null,
            "min_height": null,
            "min_width": null,
            "object_fit": null,
            "object_position": null,
            "order": null,
            "overflow": null,
            "overflow_x": null,
            "overflow_y": null,
            "padding": null,
            "right": null,
            "top": null,
            "visibility": null,
            "width": null
          }
        },
        "bc7474a419c341e2b4b3d436a182c27e": {
          "model_module": "@jupyter-widgets/controls",
          "model_name": "ProgressStyleModel",
          "model_module_version": "1.5.0",
          "state": {
            "_model_module": "@jupyter-widgets/controls",
            "_model_module_version": "1.5.0",
            "_model_name": "ProgressStyleModel",
            "_view_count": null,
            "_view_module": "@jupyter-widgets/base",
            "_view_module_version": "1.2.0",
            "_view_name": "StyleView",
            "bar_color": null,
            "description_width": ""
          }
        },
        "3e6b54463888468f9ddd22c1cb80a878": {
          "model_module": "@jupyter-widgets/base",
          "model_name": "LayoutModel",
          "model_module_version": "1.2.0",
          "state": {
            "_model_module": "@jupyter-widgets/base",
            "_model_module_version": "1.2.0",
            "_model_name": "LayoutModel",
            "_view_count": null,
            "_view_module": "@jupyter-widgets/base",
            "_view_module_version": "1.2.0",
            "_view_name": "LayoutView",
            "align_content": null,
            "align_items": null,
            "align_self": null,
            "border": null,
            "bottom": null,
            "display": null,
            "flex": null,
            "flex_flow": null,
            "grid_area": null,
            "grid_auto_columns": null,
            "grid_auto_flow": null,
            "grid_auto_rows": null,
            "grid_column": null,
            "grid_gap": null,
            "grid_row": null,
            "grid_template_areas": null,
            "grid_template_columns": null,
            "grid_template_rows": null,
            "height": null,
            "justify_content": null,
            "justify_items": null,
            "left": null,
            "margin": null,
            "max_height": null,
            "max_width": null,
            "min_height": null,
            "min_width": null,
            "object_fit": null,
            "object_position": null,
            "order": null,
            "overflow": null,
            "overflow_x": null,
            "overflow_y": null,
            "padding": null,
            "right": null,
            "top": null,
            "visibility": null,
            "width": null
          }
        },
        "e3eb2280e1db45318d846ab770b8a16a": {
          "model_module": "@jupyter-widgets/controls",
          "model_name": "DescriptionStyleModel",
          "model_module_version": "1.5.0",
          "state": {
            "_model_module": "@jupyter-widgets/controls",
            "_model_module_version": "1.5.0",
            "_model_name": "DescriptionStyleModel",
            "_view_count": null,
            "_view_module": "@jupyter-widgets/base",
            "_view_module_version": "1.2.0",
            "_view_name": "StyleView",
            "description_width": ""
          }
        },
        "dbf4b800671e4929964ecc00ddbc73fb": {
          "model_module": "@jupyter-widgets/controls",
          "model_name": "HBoxModel",
          "model_module_version": "1.5.0",
          "state": {
            "_dom_classes": [],
            "_model_module": "@jupyter-widgets/controls",
            "_model_module_version": "1.5.0",
            "_model_name": "HBoxModel",
            "_view_count": null,
            "_view_module": "@jupyter-widgets/controls",
            "_view_module_version": "1.5.0",
            "_view_name": "HBoxView",
            "box_style": "",
            "children": [
              "IPY_MODEL_058251ce21214ff29e4207b17ce425c0",
              "IPY_MODEL_5ef2ecef1d8346d4ab47782e92a79881",
              "IPY_MODEL_c5ee55f87e30445992bf7c285f7a12bb"
            ],
            "layout": "IPY_MODEL_67186b4fbbd645e3b860edad204e0902"
          }
        },
        "058251ce21214ff29e4207b17ce425c0": {
          "model_module": "@jupyter-widgets/controls",
          "model_name": "HTMLModel",
          "model_module_version": "1.5.0",
          "state": {
            "_dom_classes": [],
            "_model_module": "@jupyter-widgets/controls",
            "_model_module_version": "1.5.0",
            "_model_name": "HTMLModel",
            "_view_count": null,
            "_view_module": "@jupyter-widgets/controls",
            "_view_module_version": "1.5.0",
            "_view_name": "HTMLView",
            "description": "",
            "description_tooltip": null,
            "layout": "IPY_MODEL_7069c5eb339a4ec4999ac497ece05c98",
            "placeholder": "​",
            "style": "IPY_MODEL_b53b6484eda64c7f80d2048114a8bb1f",
            "value": " 70%"
          }
        },
        "5ef2ecef1d8346d4ab47782e92a79881": {
          "model_module": "@jupyter-widgets/controls",
          "model_name": "FloatProgressModel",
          "model_module_version": "1.5.0",
          "state": {
            "_dom_classes": [],
            "_model_module": "@jupyter-widgets/controls",
            "_model_module_version": "1.5.0",
            "_model_name": "FloatProgressModel",
            "_view_count": null,
            "_view_module": "@jupyter-widgets/controls",
            "_view_module_version": "1.5.0",
            "_view_name": "ProgressView",
            "bar_style": "",
            "description": "",
            "description_tooltip": null,
            "layout": "IPY_MODEL_79477d5c26c34f63a956e48ee6e0c6cb",
            "max": 156,
            "min": 0,
            "orientation": "horizontal",
            "style": "IPY_MODEL_061afcbafdbe4ca49c03d5877932f6df",
            "value": 109
          }
        },
        "c5ee55f87e30445992bf7c285f7a12bb": {
          "model_module": "@jupyter-widgets/controls",
          "model_name": "HTMLModel",
          "model_module_version": "1.5.0",
          "state": {
            "_dom_classes": [],
            "_model_module": "@jupyter-widgets/controls",
            "_model_module_version": "1.5.0",
            "_model_name": "HTMLModel",
            "_view_count": null,
            "_view_module": "@jupyter-widgets/controls",
            "_view_module_version": "1.5.0",
            "_view_name": "HTMLView",
            "description": "",
            "description_tooltip": null,
            "layout": "IPY_MODEL_1b9e9dc4920b4a26931ac9741ad81aab",
            "placeholder": "​",
            "style": "IPY_MODEL_c763ddc8b60e4e268bebee8e398d945d",
            "value": " 109/156 [01:05&lt;00:27,  1.71it/s]"
          }
        },
        "67186b4fbbd645e3b860edad204e0902": {
          "model_module": "@jupyter-widgets/base",
          "model_name": "LayoutModel",
          "model_module_version": "1.2.0",
          "state": {
            "_model_module": "@jupyter-widgets/base",
            "_model_module_version": "1.2.0",
            "_model_name": "LayoutModel",
            "_view_count": null,
            "_view_module": "@jupyter-widgets/base",
            "_view_module_version": "1.2.0",
            "_view_name": "LayoutView",
            "align_content": null,
            "align_items": null,
            "align_self": null,
            "border": null,
            "bottom": null,
            "display": null,
            "flex": null,
            "flex_flow": null,
            "grid_area": null,
            "grid_auto_columns": null,
            "grid_auto_flow": null,
            "grid_auto_rows": null,
            "grid_column": null,
            "grid_gap": null,
            "grid_row": null,
            "grid_template_areas": null,
            "grid_template_columns": null,
            "grid_template_rows": null,
            "height": null,
            "justify_content": null,
            "justify_items": null,
            "left": null,
            "margin": null,
            "max_height": null,
            "max_width": null,
            "min_height": null,
            "min_width": null,
            "object_fit": null,
            "object_position": null,
            "order": null,
            "overflow": null,
            "overflow_x": null,
            "overflow_y": null,
            "padding": null,
            "right": null,
            "top": null,
            "visibility": null,
            "width": null
          }
        },
        "7069c5eb339a4ec4999ac497ece05c98": {
          "model_module": "@jupyter-widgets/base",
          "model_name": "LayoutModel",
          "model_module_version": "1.2.0",
          "state": {
            "_model_module": "@jupyter-widgets/base",
            "_model_module_version": "1.2.0",
            "_model_name": "LayoutModel",
            "_view_count": null,
            "_view_module": "@jupyter-widgets/base",
            "_view_module_version": "1.2.0",
            "_view_name": "LayoutView",
            "align_content": null,
            "align_items": null,
            "align_self": null,
            "border": null,
            "bottom": null,
            "display": null,
            "flex": null,
            "flex_flow": null,
            "grid_area": null,
            "grid_auto_columns": null,
            "grid_auto_flow": null,
            "grid_auto_rows": null,
            "grid_column": null,
            "grid_gap": null,
            "grid_row": null,
            "grid_template_areas": null,
            "grid_template_columns": null,
            "grid_template_rows": null,
            "height": null,
            "justify_content": null,
            "justify_items": null,
            "left": null,
            "margin": null,
            "max_height": null,
            "max_width": null,
            "min_height": null,
            "min_width": null,
            "object_fit": null,
            "object_position": null,
            "order": null,
            "overflow": null,
            "overflow_x": null,
            "overflow_y": null,
            "padding": null,
            "right": null,
            "top": null,
            "visibility": null,
            "width": null
          }
        },
        "b53b6484eda64c7f80d2048114a8bb1f": {
          "model_module": "@jupyter-widgets/controls",
          "model_name": "DescriptionStyleModel",
          "model_module_version": "1.5.0",
          "state": {
            "_model_module": "@jupyter-widgets/controls",
            "_model_module_version": "1.5.0",
            "_model_name": "DescriptionStyleModel",
            "_view_count": null,
            "_view_module": "@jupyter-widgets/base",
            "_view_module_version": "1.2.0",
            "_view_name": "StyleView",
            "description_width": ""
          }
        },
        "79477d5c26c34f63a956e48ee6e0c6cb": {
          "model_module": "@jupyter-widgets/base",
          "model_name": "LayoutModel",
          "model_module_version": "1.2.0",
          "state": {
            "_model_module": "@jupyter-widgets/base",
            "_model_module_version": "1.2.0",
            "_model_name": "LayoutModel",
            "_view_count": null,
            "_view_module": "@jupyter-widgets/base",
            "_view_module_version": "1.2.0",
            "_view_name": "LayoutView",
            "align_content": null,
            "align_items": null,
            "align_self": null,
            "border": null,
            "bottom": null,
            "display": null,
            "flex": null,
            "flex_flow": null,
            "grid_area": null,
            "grid_auto_columns": null,
            "grid_auto_flow": null,
            "grid_auto_rows": null,
            "grid_column": null,
            "grid_gap": null,
            "grid_row": null,
            "grid_template_areas": null,
            "grid_template_columns": null,
            "grid_template_rows": null,
            "height": null,
            "justify_content": null,
            "justify_items": null,
            "left": null,
            "margin": null,
            "max_height": null,
            "max_width": null,
            "min_height": null,
            "min_width": null,
            "object_fit": null,
            "object_position": null,
            "order": null,
            "overflow": null,
            "overflow_x": null,
            "overflow_y": null,
            "padding": null,
            "right": null,
            "top": null,
            "visibility": null,
            "width": null
          }
        },
        "061afcbafdbe4ca49c03d5877932f6df": {
          "model_module": "@jupyter-widgets/controls",
          "model_name": "ProgressStyleModel",
          "model_module_version": "1.5.0",
          "state": {
            "_model_module": "@jupyter-widgets/controls",
            "_model_module_version": "1.5.0",
            "_model_name": "ProgressStyleModel",
            "_view_count": null,
            "_view_module": "@jupyter-widgets/base",
            "_view_module_version": "1.2.0",
            "_view_name": "StyleView",
            "bar_color": null,
            "description_width": ""
          }
        },
        "1b9e9dc4920b4a26931ac9741ad81aab": {
          "model_module": "@jupyter-widgets/base",
          "model_name": "LayoutModel",
          "model_module_version": "1.2.0",
          "state": {
            "_model_module": "@jupyter-widgets/base",
            "_model_module_version": "1.2.0",
            "_model_name": "LayoutModel",
            "_view_count": null,
            "_view_module": "@jupyter-widgets/base",
            "_view_module_version": "1.2.0",
            "_view_name": "LayoutView",
            "align_content": null,
            "align_items": null,
            "align_self": null,
            "border": null,
            "bottom": null,
            "display": null,
            "flex": null,
            "flex_flow": null,
            "grid_area": null,
            "grid_auto_columns": null,
            "grid_auto_flow": null,
            "grid_auto_rows": null,
            "grid_column": null,
            "grid_gap": null,
            "grid_row": null,
            "grid_template_areas": null,
            "grid_template_columns": null,
            "grid_template_rows": null,
            "height": null,
            "justify_content": null,
            "justify_items": null,
            "left": null,
            "margin": null,
            "max_height": null,
            "max_width": null,
            "min_height": null,
            "min_width": null,
            "object_fit": null,
            "object_position": null,
            "order": null,
            "overflow": null,
            "overflow_x": null,
            "overflow_y": null,
            "padding": null,
            "right": null,
            "top": null,
            "visibility": null,
            "width": null
          }
        },
        "c763ddc8b60e4e268bebee8e398d945d": {
          "model_module": "@jupyter-widgets/controls",
          "model_name": "DescriptionStyleModel",
          "model_module_version": "1.5.0",
          "state": {
            "_model_module": "@jupyter-widgets/controls",
            "_model_module_version": "1.5.0",
            "_model_name": "DescriptionStyleModel",
            "_view_count": null,
            "_view_module": "@jupyter-widgets/base",
            "_view_module_version": "1.2.0",
            "_view_name": "StyleView",
            "description_width": ""
          }
        }
      }
    }
  },
  "nbformat": 4,
  "nbformat_minor": 0
}